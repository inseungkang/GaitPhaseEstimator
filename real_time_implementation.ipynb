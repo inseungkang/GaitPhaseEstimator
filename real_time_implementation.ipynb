{
 "cells": [
  {
   "cell_type": "markdown",
   "metadata": {},
   "source": [
    "## Real-Time Inference of Gait Phase and Walk vs. Stand "
   ]
  },
  {
   "cell_type": "markdown",
   "metadata": {},
   "source": [
    "In this notebook, we will look at the real time implementation of two models - a gait phase estimator and a walk vs stand classifier. Each model was trained offline. Here, the trained models will be loaded, and predictions will be made in real time."
   ]
  },
  {
   "cell_type": "markdown",
   "metadata": {},
   "source": [
    "#### Imports"
   ]
  },
  {
   "cell_type": "code",
   "execution_count": 1,
   "metadata": {},
   "outputs": [
    {
     "name": "stderr",
     "output_type": "stream",
     "text": [
      "Using TensorFlow backend.\n"
     ]
    }
   ],
   "source": [
    "from keras.models import load_model\n",
    "from convolutional_nn import *\n",
    "import time\n",
    "import tensorflow as tf\n",
    "from keras.metrics import RootMeanSquaredError\n",
    "import numpy as np"
   ]
  },
  {
   "cell_type": "markdown",
   "metadata": {},
   "source": [
    "#### Load Model"
   ]
  },
  {
   "cell_type": "code",
   "execution_count": 2,
   "metadata": {},
   "outputs": [
    {
     "name": "stdout",
     "output_type": "stream",
     "text": [
      "3342/3342 [==============================] - 0s 92us/step\n",
      "4225/4225 [==============================] - 0s 40us/step\n",
      "3278/3278 [==============================] - 0s 45us/step\n",
      "4629/4629 [==============================] - 0s 49us/step\n",
      "3321/3321 [==============================] - 0s 43us/step\n",
      "4258/4258 [==============================] - 0s 44us/step\n",
      "3266/3266 [==============================] - 0s 43us/step\n",
      "4647/4647 [==============================] - 0s 43us/step\n",
      "3034/3034 [==============================] - 0s 42us/step\n",
      "4433/4433 [==============================] - 0s 49us/step\n",
      "Window Size: 40 \n",
      "Loss: 1.75%\n"
     ]
    }
   ],
   "source": [
    "# Loads model configuration and learned parameters\n",
    "model = load_model('test_model_save_2')\n",
    "\n",
    "# Verify that loss is the same as trained model\n",
    "trials = np.arange(1, 11)\n",
    "window_size = 40\n",
    "loss_per_trial = []\n",
    "for test_trial_num in trials:\n",
    "    data = cnn_train_test_split(test_trial_num, window_size)\n",
    "    loss_per_trial.append(model.evaluate(\n",
    "            data['X_test'], data['y_test']))\n",
    "loss_mean = np.mean(loss_per_trial) * 100\n",
    "print('Window Size: {} \\nLoss: {:.2f}%'.format(\n",
    "    window_size, loss_mean))"
   ]
  },
  {
   "cell_type": "markdown",
   "metadata": {},
   "source": [
    "#### Load Dataset"
   ]
  },
  {
   "cell_type": "code",
   "execution_count": 3,
   "metadata": {},
   "outputs": [
    {
     "name": "stdout",
     "output_type": "stream",
     "text": [
      "(38433, 40, 10)\n",
      "(38433, 4)\n"
     ]
    }
   ],
   "source": [
    "X, y = cnn_load_data(trials, 40)\n",
    "print(X.shape)\n",
    "print(y.shape)"
   ]
  },
  {
   "cell_type": "markdown",
   "metadata": {},
   "source": [
    "#### Model Summary"
   ]
  },
  {
   "cell_type": "code",
   "execution_count": 4,
   "metadata": {},
   "outputs": [
    {
     "data": {
      "text/plain": [
       "(None, 40, 10)"
      ]
     },
     "metadata": {},
     "output_type": "display_data"
    },
    {
     "name": "stdout",
     "output_type": "stream",
     "text": [
      "Model: \"sequential_1\"\n",
      "_________________________________________________________________\n",
      "Layer (type)                 Output Shape              Param #   \n",
      "=================================================================\n",
      "conv1d_1 (Conv1D)            (None, 21, 10)            2010      \n",
      "_________________________________________________________________\n",
      "conv1d_2 (Conv1D)            (None, 12, 10)            1010      \n",
      "_________________________________________________________________\n",
      "activation_1 (Activation)    (None, 12, 10)            0         \n",
      "_________________________________________________________________\n",
      "flatten_1 (Flatten)          (None, 120)               0         \n",
      "_________________________________________________________________\n",
      "dense_1 (Dense)              (None, 4)                 484       \n",
      "=================================================================\n",
      "Total params: 3,504\n",
      "Trainable params: 3,504\n",
      "Non-trainable params: 0\n",
      "_________________________________________________________________\n"
     ]
    }
   ],
   "source": [
    "display(model.input_shape)\n",
    "model.summary()"
   ]
  },
  {
   "cell_type": "markdown",
   "metadata": {},
   "source": [
    "#### Make Inferences in Real Time"
   ]
  },
  {
   "cell_type": "code",
   "execution_count": 5,
   "metadata": {},
   "outputs": [],
   "source": [
    "N = X.shape[0]\n",
    "i = 0\n",
    "inference_freq_Hz = 10\n",
    "period_s = 1/inference_freq_Hz\n",
    "\n",
    "pred_y = []\n",
    "\n",
    "while i < 3:\n",
    "# while i < N:\n",
    "    time.sleep(period_s)\n",
    "    example = X[i]\n",
    "    example = example.reshape((-1, *example.shape))\n",
    "    prediction = model.predict(example)\n",
    "    pred_y.append(prediction)\n",
    "    i += 1"
   ]
  },
  {
   "cell_type": "markdown",
   "metadata": {},
   "source": [
    "#### Evaluate Predictions"
   ]
  },
  {
   "cell_type": "code",
   "execution_count": 18,
   "metadata": {},
   "outputs": [],
   "source": [
    "def custom_rmse(y_true, y_pred):\n",
    "    #Raw values and Prediction are in X,Y\n",
    "    labels, theta, gp = {}, {}, {}\n",
    "\n",
    "    #Separate legs\n",
    "    left_true = y_true[:, :2]\n",
    "    right_true = y_true[:, 2:]\n",
    "    left_pred = y_pred[:, :2]\n",
    "    right_pred = y_pred[:, 2:]\n",
    "    \n",
    "    #Calculate cosine distance\n",
    "    left_num = np.sum(np.multiply(left_true, left_pred), axis=1)\n",
    "    left_denom = np.linalg.norm(left_true, axis=1) * np.linalg.norm(left_pred, axis=1)\n",
    "    right_num = np.sum(np.multiply(right_true, right_pred), axis=1)\n",
    "    right_denom = np.linalg.norm(right_true, axis=1) * np.linalg.norm(right_pred, axis=1)\n",
    "\n",
    "    left_cos = left_num / left_denom\n",
    "    right_cos = right_num / right_denom\n",
    "    \n",
    "    #Clip large values and small values\n",
    "    left_cos = np.minimum(left_cos, np.zeros(left_cos.shape)+1)\n",
    "    left_cos = np.maximum(left_cos, np.zeros(left_cos.shape)-1)\n",
    "    \n",
    "    right_cos = np.minimum(right_cos, np.zeros(right_cos.shape)+1)\n",
    "    right_cos = np.maximum(right_cos, np.zeros(right_cos.shape)-1)\n",
    "    \n",
    "    #Get theta error\n",
    "    left_theta = np.arccos(left_cos)\n",
    "    right_theta = np.arccos(right_cos)\n",
    "    \n",
    "    #Get gait phase error\n",
    "    left_gp_error = left_theta * 100 / (2*np.pi)\n",
    "    right_gp_error = right_theta * 100 / (2*np.pi)\n",
    "    \n",
    "    #Get rmse\n",
    "    left_rmse = np.sqrt(np.mean(np.square(left_gp_error)))\n",
    "    right_rmse = np.sqrt(np.mean(np.square(right_gp_error)))\n",
    "\n",
    "    return left_rmse, right_rmse"
   ]
  },
  {
   "cell_type": "code",
   "execution_count": 19,
   "metadata": {},
   "outputs": [
    {
     "name": "stdout",
     "output_type": "stream",
     "text": [
      "0.6311393998602008 1.0675175612529035\n"
     ]
    }
   ],
   "source": [
    "true_y = y[:3]\n",
    "pred_y = np.array(pred_y).reshape(3, 4)\n",
    "left_gp_rmse, right_gp_rmse = custom_rmse(true_y, pred_y)\n",
    "\n",
    "print(left_gp_rmse, right_gp_rmse)"
   ]
  }
 ],
 "metadata": {
  "kernelspec": {
   "display_name": "Python 3",
   "language": "python",
   "name": "python3"
  },
  "language_info": {
   "codemirror_mode": {
    "name": "ipython",
    "version": 3
   },
   "file_extension": ".py",
   "mimetype": "text/x-python",
   "name": "python",
   "nbconvert_exporter": "python",
   "pygments_lexer": "ipython3",
   "version": "3.6.10"
  }
 },
 "nbformat": 4,
 "nbformat_minor": 4
}
