{
 "cells": [
  {
   "cell_type": "markdown",
   "metadata": {},
   "source": [
    "## Phase 1 Pipeline"
   ]
  },
  {
   "cell_type": "markdown",
   "metadata": {},
   "source": [
    "#### Setup"
   ]
  },
  {
   "cell_type": "code",
   "execution_count": null,
   "metadata": {},
   "outputs": [],
   "source": [
    "from model_training import *\n",
    "from data_processing import *\n",
    "import pandas as pd\n",
    "from numpy.random import seed\n",
    "import tensorflow as tf"
   ]
  },
  {
   "cell_type": "code",
   "execution_count": null,
   "metadata": {},
   "outputs": [],
   "source": [
    "# Seed Random Number Generators for Reproducibility\n",
    "seed(1)\n",
    "tf.compat.v1.set_random_seed(seed=5)"
   ]
  },
  {
   "cell_type": "code",
   "execution_count": null,
   "metadata": {},
   "outputs": [],
   "source": [
    "# subject list\n",
    "subjects = [6]\n",
    "trials = np.arange(1, 6)"
   ]
  },
  {
   "cell_type": "markdown",
   "metadata": {},
   "source": [
    "#### Configure Hyperparameter Search Space"
   ]
  },
  {
   "cell_type": "code",
   "execution_count": null,
   "metadata": {},
   "outputs": [],
   "source": [
    "# LSTM Model\n",
    "hyperparam_space = {\n",
    "    'subject': subjects,\n",
    "    'fold': ['ZI'],\n",
    "    'window_size': [40],\n",
    "    'model': 'lstm',\n",
    "    'lstm': {\n",
    "      'units': [20],\n",
    "      'activation': ['tanh']\n",
    "    },\n",
    "    'dense': {\n",
    "        'activation': ['tanh']\n",
    "    },\n",
    "    'optimizer': {\n",
    "        'loss': ['mean_absolute_error'],\n",
    "        'optimizer': ['adam']\n",
    "    },\n",
    "    'training': {\n",
    "        'epochs': [5],\n",
    "        'batch_size': [128]\n",
    "    }\n",
    "}\n",
    "\n",
    "hyperparameter_configs = get_model_configs_subject(hyperparam_space)"
   ]
  },
  {
   "cell_type": "markdown",
   "metadata": {},
   "source": [
    "#### Load Data"
   ]
  },
  {
   "cell_type": "code",
   "execution_count": null,
   "metadata": {},
   "outputs": [],
   "source": [
    "data = import_subject_data(subjects, trials)"
   ]
  },
  {
   "cell_type": "markdown",
   "metadata": {},
   "source": [
    "#### Train Models"
   ]
  },
  {
   "cell_type": "code",
   "execution_count": null,
   "metadata": {},
   "outputs": [],
   "source": [
    "trial_results, average_results = train_models_subject(hyperparam_space['model'], hyperparameter_configs, data)"
   ]
  },
  {
   "cell_type": "markdown",
   "metadata": {},
   "source": [
    "#### View Results"
   ]
  },
  {
   "cell_type": "code",
   "execution_count": null,
   "metadata": {},
   "outputs": [],
   "source": [
    "display(average_results)"
   ]
  },
  {
   "cell_type": "code",
   "execution_count": null,
   "metadata": {},
   "outputs": [],
   "source": [
    "display(trial_results)"
   ]
  },
  {
   "cell_type": "markdown",
   "metadata": {},
   "source": [
    "#### Example Hyperparameter Search Space Configs"
   ]
  },
  {
   "cell_type": "code",
   "execution_count": null,
   "metadata": {},
   "outputs": [],
   "source": [
    "# # CNN Model\n",
    "# hyperparam_space = {\n",
    "#     'subject': subjects,\n",
    "#     'fold': ['ZI'],\n",
    "#     'window_size': [100],\n",
    "#     'model': 'cnn',\n",
    "#     'cnn': {\n",
    "#       'kernel_size': [10],\n",
    "#       'activation': ['relu']\n",
    "#     },\n",
    "#     'dense': {\n",
    "#         'activation': ['tanh']\n",
    "#     },\n",
    "#     'optimizer': {\n",
    "#         'loss': ['mean_absolute_error'],\n",
    "#         'optimizer': ['adam']\n",
    "#     },\n",
    "#     'training': {\n",
    "#         'epochs': [100],\n",
    "#         'batch_size': [128]\n",
    "#     }\n",
    "# }\n",
    "\n",
    "# # MLP Model\n",
    "# hyperparam_space = {\n",
    "#     'subject': subjects,\n",
    "#     'fold': ['ZIBT'],\n",
    "#     'window_size': [20],\n",
    "#     'model': 'mlp',\n",
    "#     'dense': {\n",
    "#         'num_layers': [1],\n",
    "#         'num_nodes': [5],\n",
    "#         'activation': ['relu']\n",
    "#     },\n",
    "#     'optimizer': {\n",
    "#         'loss': ['mean_absolute_error'],\n",
    "#         'optimizer': ['adam']\n",
    "#     },\n",
    "#     'training': {\n",
    "#         'epochs': [2],\n",
    "#         'batch_size': [128]\n",
    "#     }\n",
    "# }\n",
    "\n",
    "# # LSTM Model\n",
    "# hyperparam_space = {\n",
    "#     'subject': subjects,\n",
    "#     'fold': ['ZI'],\n",
    "#     'window_size': [40],\n",
    "#     'model': 'lstm',\n",
    "#     'lstm': {\n",
    "#       'units': [20],\n",
    "#       'activation': ['tanh']\n",
    "#     },\n",
    "#     'dense': {\n",
    "#         'activation': ['tanh']\n",
    "#     },\n",
    "#     'optimizer': {\n",
    "#         'loss': ['mean_absolute_error'],\n",
    "#         'optimizer': ['adam']\n",
    "#     },\n",
    "#     'training': {\n",
    "#         'epochs': [5],\n",
    "#         'batch_size': [128]\n",
    "#     }\n",
    "# }"
   ]
  },
  {
   "cell_type": "markdown",
   "metadata": {},
   "source": [
    "#### Old Pipeline"
   ]
  },
  {
   "cell_type": "code",
   "execution_count": null,
   "metadata": {},
   "outputs": [],
   "source": [
    "# # Configure Hyperparameter Search Space\n",
    "\n",
    "# # MLP Model\n",
    "# hyperparam_space = {\n",
    "#     'window_size': [20],\n",
    "#     'model': 'mlp',\n",
    "#     'dense': {\n",
    "#         'num_layers': [10, 20],\n",
    "#         'num_nodes': [5, 10],\n",
    "#         'activation': ['tanh']\n",
    "#     },\n",
    "#     'optimizer': {\n",
    "#         'loss': ['mean_absolute_error'],\n",
    "#         'optimizer': ['adam']\n",
    "#     },\n",
    "#     'training': {\n",
    "#         'epochs': [10],\n",
    "#         'batch_size': [128]\n",
    "#     }\n",
    "# }\n",
    "\n",
    "# hyperparameter_configs = get_model_configs(hyperparam_space)\n",
    "\n",
    "# # Load Data\n",
    "# data = import_data()\n",
    "# data = label_data(data)\n",
    "# data_list = cut_data(data)\n",
    "\n",
    "# # Train Model\n",
    "# trial_results, average_results = train_models(hyperparam_space['model'], hyperparameter_configs, data_list)\n",
    "\n",
    "# # Example Hyperparameter Search Space Configs\n",
    "\n",
    "## LSTM Model\n",
    "# hyperparam_space = {\n",
    "#     'window_size': [20],\n",
    "#     'model': 'lstm',\n",
    "#     'lstm': {\n",
    "#       'units': [30],\n",
    "#       'activation': ['relu']\n",
    "#     },\n",
    "#     'dense': {\n",
    "#         'activation': ['tanh']\n",
    "#     },\n",
    "#     'optimizer': {\n",
    "#         'loss': ['mean_absolute_error'],\n",
    "#         'optimizer': ['adam']\n",
    "#     },\n",
    "#     'training': {\n",
    "#         'epochs': [10],\n",
    "#         'batch_size': [128]\n",
    "#     }\n",
    "# }\n",
    "\n",
    "## CNN Model\n",
    "# hyperparam_space = {\n",
    "#     'window_size': [20],\n",
    "#     'model': 'cnn',\n",
    "#     'cnn': {\n",
    "#       'kernel_size': [10],\n",
    "#       'activation': ['relu']\n",
    "#     },\n",
    "#     'dense': {\n",
    "#         'activation': ['tanh']\n",
    "#     },\n",
    "#     'optimizer': {\n",
    "#         'loss': ['mean_absolute_error'],\n",
    "#         'optimizer': ['adam']\n",
    "#     },\n",
    "#     'training': {\n",
    "#         'epochs': [10],\n",
    "#         'batch_size': [128]\n",
    "#     }\n",
    "# }\n",
    "\n",
    "## MLP Model\n",
    "# hyperparam_space = {\n",
    "#     'window_size': [20],\n",
    "#     'model': 'mlp',\n",
    "#     'dense': {\n",
    "#         'num_layers': [10, 20],\n",
    "#         'num_nodes': [5, 10],\n",
    "#         'activation': ['tanh']\n",
    "#     },\n",
    "#     'optimizer': {\n",
    "#         'loss': ['mean_absolute_error'],\n",
    "#         'optimizer': ['adam']\n",
    "#     },\n",
    "#     'training': {\n",
    "#         'epochs': [10],\n",
    "#         'batch_size': [128]\n",
    "#     }\n",
    "# }\n",
    "#\n",
    "#\n",
    "## View Results\n",
    "#\n",
    "# display(average_results)\n",
    "# display(trial_results)"
   ]
  },
  {
   "cell_type": "code",
   "execution_count": null,
   "metadata": {},
   "outputs": [],
   "source": []
  }
 ],
 "metadata": {
  "kernelspec": {
   "display_name": "Python 3",
   "language": "python",
   "name": "python3"
  },
  "language_info": {
   "codemirror_mode": {
    "name": "ipython",
    "version": 3
   },
   "file_extension": ".py",
   "mimetype": "text/x-python",
   "name": "python",
   "nbconvert_exporter": "python",
   "pygments_lexer": "ipython3",
   "version": "3.7.6"
  }
 },
 "nbformat": 4,
 "nbformat_minor": 4
}
